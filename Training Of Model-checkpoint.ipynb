{
 "cells": [
  {
   "cell_type": "code",
   "execution_count": 1,
   "id": "0ce344eb",
   "metadata": {
    "_cell_guid": "b1076dfc-b9ad-4769-8c92-a6c4dae69d19",
    "_uuid": "8f2839f25d086af736a60e9eeb907d3b93b6e0e5",
    "execution": {
     "iopub.execute_input": "2023-09-06T07:22:00.957947Z",
     "iopub.status.busy": "2023-09-06T07:22:00.957013Z",
     "iopub.status.idle": "2023-09-06T07:22:12.746197Z",
     "shell.execute_reply": "2023-09-06T07:22:12.744687Z"
    },
    "papermill": {
     "duration": 11.805201,
     "end_time": "2023-09-06T07:22:12.749066",
     "exception": false,
     "start_time": "2023-09-06T07:22:00.943865",
     "status": "completed"
    },
    "tags": []
   },
   "outputs": [
    {
     "name": "stdout",
     "output_type": "stream",
     "text": [
      "/kaggle/input/new-bangladeshi-crop-disease/Info.txt\n",
      "/kaggle/input/new-bangladeshi-crop-disease/BangladeshiCrops/BangladeshiCrops/Crop___Disease/Wheat/Wheat___Yellow_Rust/Yellow_rust762.jpg\n",
      "/kaggle/input/new-bangladeshi-crop-disease/BangladeshiCrops/BangladeshiCrops/Crop___Disease/Wheat/Wheat___Brown_Rust/Brown_rust617.jpg\n",
      "/kaggle/input/new-bangladeshi-crop-disease/BangladeshiCrops/BangladeshiCrops/Crop___Disease/Wheat/Wheat___Healthy/Healthy1025.jpg\n",
      "/kaggle/input/new-bangladeshi-crop-disease/BangladeshiCrops/BangladeshiCrops/Crop___Disease/Corn/Corn___Northern_Leaf_Blight/image (849).jpg\n",
      "/kaggle/input/new-bangladeshi-crop-disease/BangladeshiCrops/BangladeshiCrops/Crop___Disease/Corn/Corn___Healthy/image (849).jpg\n",
      "/kaggle/input/new-bangladeshi-crop-disease/BangladeshiCrops/BangladeshiCrops/Crop___Disease/Corn/Corn___Gray_Leaf_Spot/image (276).JPG\n",
      "/kaggle/input/new-bangladeshi-crop-disease/BangladeshiCrops/BangladeshiCrops/Crop___Disease/Corn/Corn___Common_Rust/image (849).JPG\n",
      "/kaggle/input/new-bangladeshi-crop-disease/BangladeshiCrops/BangladeshiCrops/Crop___Disease/Rice/Rice___Neck_Blast/IMG20201109165822_00.jpg\n",
      "/kaggle/input/new-bangladeshi-crop-disease/BangladeshiCrops/BangladeshiCrops/Crop___Disease/Rice/Rice___Brown_Spot/bs_wb_10.jpg\n",
      "/kaggle/input/new-bangladeshi-crop-disease/BangladeshiCrops/BangladeshiCrops/Crop___Disease/Rice/Rice___Leaf_Blast/rb_wb_194.jpg\n",
      "/kaggle/input/new-bangladeshi-crop-disease/BangladeshiCrops/BangladeshiCrops/Crop___Disease/Rice/Rice___Healthy/IMG_20190419_170344.jpg\n",
      "/kaggle/input/new-bangladeshi-crop-disease/BangladeshiCrops/BangladeshiCrops/Crop___Disease/Potato/Potato___Healthy/7948ada9-eabc-4cb7-a579-b73e938eb716___RS_HL 4185.JPG\n",
      "/kaggle/input/new-bangladeshi-crop-disease/BangladeshiCrops/BangladeshiCrops/Crop___Disease/Potato/Potato___Late_Blight/5f0801e0-b127-4596-9f82-eb36f8ee5c85___RS_LB 3852.JPG\n",
      "/kaggle/input/new-bangladeshi-crop-disease/BangladeshiCrops/BangladeshiCrops/Crop___Disease/Potato/Potato___Early_Blight/ac6c3aea-ad58-4b46-b0d2-195dba86e0f6___RS_Early.B 7926.JPG\n",
      "/kaggle/input/new-bangladeshi-crop-disease/Invalid/Invalid/image (849).jpg\n"
     ]
    }
   ],
   "source": [
    "# This Python 3 environment comes with many helpful analytics libraries installed\n",
    "# It is defined by the kaggle/python Docker image: https://github.com/kaggle/docker-python\n",
    "# For example, here's several helpful packages to load\n",
    "\n",
    "import numpy as np # linear algebra\n",
    "import pandas as pd # data processing, CSV file I/O (e.g. pd.read_csv)\n",
    "\n",
    "# Input data files are available in the read-only \"../input/\" directory\n",
    "# For example, running this (by clicking run or pressing Shift+Enter) will list all files under the input directory\n",
    "\n",
    "import os\n",
    "for dirname, _, filenames in os.walk('/kaggle/input'):\n",
    "    for filename in filenames:\n",
    "        print(os.path.join(dirname, filename))\n",
    "        break\n",
    "\n",
    "# You can write up to 20GB to the current directory (/kaggle/working/) that gets preserved as output when you create a version using \"Save & Run All\" \n",
    "# You can also write temporary files to /kaggle/temp/, but they won't be saved outside of the current session"
   ]
  },
  {
   "cell_type": "code",
   "execution_count": 2,
   "id": "08c91f4a",
   "metadata": {
    "execution": {
     "iopub.execute_input": "2023-09-06T07:22:12.774641Z",
     "iopub.status.busy": "2023-09-06T07:22:12.773161Z",
     "iopub.status.idle": "2023-09-06T07:22:12.778535Z",
     "shell.execute_reply": "2023-09-06T07:22:12.777724Z"
    },
    "papermill": {
     "duration": 0.020341,
     "end_time": "2023-09-06T07:22:12.781164",
     "exception": false,
     "start_time": "2023-09-06T07:22:12.760823",
     "status": "completed"
    },
    "tags": []
   },
   "outputs": [],
   "source": [
    "potato_dir = '/kaggle/input/new-bangladeshi-crop-disease/BangladeshiCrops/BangladeshiCrops/Crop___Disease/Potato'"
   ]
  },
  {
   "cell_type": "markdown",
   "id": "9e2c86d3",
   "metadata": {
    "papermill": {
     "duration": 0.010279,
     "end_time": "2023-09-06T07:22:12.802037",
     "exception": false,
     "start_time": "2023-09-06T07:22:12.791758",
     "status": "completed"
    },
    "tags": []
   },
   "source": [
    "# Split df to train test"
   ]
  },
  {
   "cell_type": "code",
   "execution_count": 3,
   "id": "f27157f6",
   "metadata": {
    "execution": {
     "iopub.execute_input": "2023-09-06T07:22:12.826721Z",
     "iopub.status.busy": "2023-09-06T07:22:12.824313Z",
     "iopub.status.idle": "2023-09-06T07:22:28.676039Z",
     "shell.execute_reply": "2023-09-06T07:22:28.675080Z"
    },
    "papermill": {
     "duration": 15.866166,
     "end_time": "2023-09-06T07:22:28.678565",
     "exception": false,
     "start_time": "2023-09-06T07:22:12.812399",
     "status": "completed"
    },
    "tags": []
   },
   "outputs": [
    {
     "name": "stdout",
     "output_type": "stream",
     "text": [
      "Collecting split-folders\r\n",
      "  Downloading split_folders-0.5.1-py3-none-any.whl (8.4 kB)\r\n",
      "Installing collected packages: split-folders\r\n",
      "Successfully installed split-folders-0.5.1\r\n",
      "Note: you may need to restart the kernel to use updated packages.\n"
     ]
    }
   ],
   "source": [
    "pip install split-folders"
   ]
  },
  {
   "cell_type": "code",
   "execution_count": 4,
   "id": "bb31e986",
   "metadata": {
    "execution": {
     "iopub.execute_input": "2023-09-06T07:22:28.704630Z",
     "iopub.status.busy": "2023-09-06T07:22:28.704148Z",
     "iopub.status.idle": "2023-09-06T07:22:37.420884Z",
     "shell.execute_reply": "2023-09-06T07:22:37.419796Z"
    },
    "papermill": {
     "duration": 8.73284,
     "end_time": "2023-09-06T07:22:37.423410",
     "exception": false,
     "start_time": "2023-09-06T07:22:28.690570",
     "status": "completed"
    },
    "tags": []
   },
   "outputs": [
    {
     "name": "stderr",
     "output_type": "stream",
     "text": [
      "Copying files: 2152 files [00:08, 247.81 files/s]\n"
     ]
    }
   ],
   "source": [
    "import splitfolders\n",
    "\n",
    "# Define paths\n",
    "input_folder = potato_dir\n",
    "output_folder = '/kaggle/working/potato'\n",
    "\n",
    "# Split the dataset into train, validation, and test sets\n",
    "splitfolders.ratio(input_folder, output=output_folder, seed=42, ratio=(0.7, 0.15, 0.15))\n"
   ]
  },
  {
   "cell_type": "markdown",
   "id": "5dddca55",
   "metadata": {
    "papermill": {
     "duration": 0.017686,
     "end_time": "2023-09-06T07:22:37.459922",
     "exception": false,
     "start_time": "2023-09-06T07:22:37.442236",
     "status": "completed"
    },
    "tags": []
   },
   "source": [
    "# Data/image Generate with preprocessing"
   ]
  },
  {
   "cell_type": "code",
   "execution_count": 5,
   "id": "f197b082",
   "metadata": {
    "execution": {
     "iopub.execute_input": "2023-09-06T07:22:37.498050Z",
     "iopub.status.busy": "2023-09-06T07:22:37.497337Z",
     "iopub.status.idle": "2023-09-06T07:22:47.183007Z",
     "shell.execute_reply": "2023-09-06T07:22:47.181957Z"
    },
    "papermill": {
     "duration": 9.708206,
     "end_time": "2023-09-06T07:22:47.185878",
     "exception": false,
     "start_time": "2023-09-06T07:22:37.477672",
     "status": "completed"
    },
    "tags": []
   },
   "outputs": [
    {
     "name": "stdout",
     "output_type": "stream",
     "text": [
      "Found 1506 images belonging to 3 classes.\n",
      "Found 324 images belonging to 3 classes.\n",
      "Found 322 images belonging to 3 classes.\n"
     ]
    }
   ],
   "source": [
    "from keras.preprocessing.image import ImageDataGenerator\n",
    "\n",
    "\n",
    "train_dir = \"/kaggle/working/potato/train\"\n",
    "test_dir = \"/kaggle/working/potato/test\"\n",
    "val_dir = \"/kaggle/working/potato/val\"\n",
    "generator_train = ImageDataGenerator(rescale=1./255, featurewise_center=False, samplewise_center=False,\n",
    "                                     featurewise_std_normalization=False, samplewise_std_normalization=False,\n",
    "                                     zca_whitening=False, rotation_range=0, width_shift_range=0,\n",
    "                                     height_shift_range=0,\n",
    "                                     horizontal_flip=True, vertical_flip=False)\n",
    "generator_test = ImageDataGenerator(rescale=1./255, featurewise_center=False, samplewise_center=False,\n",
    "                                     featurewise_std_normalization=False, samplewise_std_normalization=False,\n",
    "                                     zca_whitening=False, rotation_range=0, width_shift_range=0,\n",
    "                                     height_shift_range=0,\n",
    "                                     horizontal_flip=True, vertical_flip=False)\n",
    "\n",
    "generator_val = ImageDataGenerator(rescale=1./255, featurewise_center=False, samplewise_center=False,\n",
    "                                     featurewise_std_normalization=False, samplewise_std_normalization=False,\n",
    "                                     zca_whitening=False, rotation_range=0, width_shift_range=0,\n",
    "                                     height_shift_range=0,\n",
    "                                     horizontal_flip=True, vertical_flip=False)\n",
    "train_ds = generator_train.flow_from_directory(train_dir, target_size=(64,64), batch_size=32, class_mode=\"categorical\", color_mode=\"rgb\")\n",
    "test_ds = generator_test.flow_from_directory(test_dir, target_size=(64,64), batch_size=32, class_mode=\"categorical\", color_mode=\"rgb\")\n",
    "val_ds = generator_val.flow_from_directory(val_dir, target_size=(64,64), batch_size=32, class_mode=\"categorical\", color_mode=\"rgb\")\n"
   ]
  },
  {
   "cell_type": "code",
   "execution_count": 6,
   "id": "fda8a509",
   "metadata": {
    "execution": {
     "iopub.execute_input": "2023-09-06T07:22:47.229562Z",
     "iopub.status.busy": "2023-09-06T07:22:47.228158Z",
     "iopub.status.idle": "2023-09-06T07:22:47.237537Z",
     "shell.execute_reply": "2023-09-06T07:22:47.236395Z"
    },
    "papermill": {
     "duration": 0.034581,
     "end_time": "2023-09-06T07:22:47.240398",
     "exception": false,
     "start_time": "2023-09-06T07:22:47.205817",
     "status": "completed"
    },
    "tags": []
   },
   "outputs": [
    {
     "data": {
      "text/plain": [
       "<keras.preprocessing.image.DirectoryIterator at 0x7bddc8e10ac0>"
      ]
     },
     "execution_count": 6,
     "metadata": {},
     "output_type": "execute_result"
    }
   ],
   "source": [
    "train_ds"
   ]
  },
  {
   "cell_type": "markdown",
   "id": "940a6276",
   "metadata": {
    "papermill": {
     "duration": 0.019173,
     "end_time": "2023-09-06T07:22:47.279354",
     "exception": false,
     "start_time": "2023-09-06T07:22:47.260181",
     "status": "completed"
    },
    "tags": []
   },
   "source": [
    "# Desing CNN mode"
   ]
  },
  {
   "cell_type": "code",
   "execution_count": 7,
   "id": "209bc094",
   "metadata": {
    "execution": {
     "iopub.execute_input": "2023-09-06T07:22:47.319922Z",
     "iopub.status.busy": "2023-09-06T07:22:47.319406Z",
     "iopub.status.idle": "2023-09-06T07:51:36.143357Z",
     "shell.execute_reply": "2023-09-06T07:51:36.142020Z"
    },
    "papermill": {
     "duration": 1728.847985,
     "end_time": "2023-09-06T07:51:36.146211",
     "exception": false,
     "start_time": "2023-09-06T07:22:47.298226",
     "status": "completed"
    },
    "tags": []
   },
   "outputs": [
    {
     "name": "stdout",
     "output_type": "stream",
     "text": [
      "Epoch 1/50\n",
      "48/48 [==============================] - 23s 442ms/step - loss: 0.8910 - accuracy: 0.5425 - val_loss: 0.7246 - val_accuracy: 0.8025\n",
      "Epoch 2/50\n",
      "48/48 [==============================] - 21s 438ms/step - loss: 0.4646 - accuracy: 0.8333 - val_loss: 0.3450 - val_accuracy: 0.8642\n",
      "Epoch 3/50\n",
      "48/48 [==============================] - 21s 438ms/step - loss: 0.3744 - accuracy: 0.8586 - val_loss: 0.3406 - val_accuracy: 0.8765\n",
      "Epoch 4/50\n",
      "48/48 [==============================] - 21s 439ms/step - loss: 0.2729 - accuracy: 0.8904 - val_loss: 0.2663 - val_accuracy: 0.9105\n",
      "Epoch 5/50\n",
      "48/48 [==============================] - 21s 430ms/step - loss: 0.2422 - accuracy: 0.9011 - val_loss: 0.1898 - val_accuracy: 0.9444\n",
      "Epoch 6/50\n",
      "48/48 [==============================] - 21s 438ms/step - loss: 0.1601 - accuracy: 0.9416 - val_loss: 0.1543 - val_accuracy: 0.9321\n",
      "Epoch 7/50\n",
      "48/48 [==============================] - 21s 436ms/step - loss: 0.1719 - accuracy: 0.9270 - val_loss: 0.2022 - val_accuracy: 0.9074\n",
      "Epoch 8/50\n",
      "48/48 [==============================] - 20s 426ms/step - loss: 0.1859 - accuracy: 0.9290 - val_loss: 0.1561 - val_accuracy: 0.9321\n",
      "Epoch 9/50\n",
      "48/48 [==============================] - 21s 439ms/step - loss: 0.1228 - accuracy: 0.9535 - val_loss: 0.1738 - val_accuracy: 0.9506\n",
      "Epoch 10/50\n",
      "48/48 [==============================] - 20s 423ms/step - loss: 0.1769 - accuracy: 0.9316 - val_loss: 0.2288 - val_accuracy: 0.9012\n",
      "Epoch 11/50\n",
      "48/48 [==============================] - 21s 433ms/step - loss: 0.1679 - accuracy: 0.9343 - val_loss: 0.1092 - val_accuracy: 0.9660\n",
      "Epoch 12/50\n",
      "48/48 [==============================] - 21s 430ms/step - loss: 0.1501 - accuracy: 0.9409 - val_loss: 0.1182 - val_accuracy: 0.9630\n",
      "Epoch 13/50\n",
      "48/48 [==============================] - 21s 435ms/step - loss: 0.0996 - accuracy: 0.9675 - val_loss: 0.1044 - val_accuracy: 0.9599\n",
      "Epoch 14/50\n",
      "48/48 [==============================] - 21s 430ms/step - loss: 0.0660 - accuracy: 0.9768 - val_loss: 0.1169 - val_accuracy: 0.9630\n",
      "Epoch 15/50\n",
      "48/48 [==============================] - 20s 423ms/step - loss: 0.0840 - accuracy: 0.9714 - val_loss: 0.1045 - val_accuracy: 0.9630\n",
      "Epoch 16/50\n",
      "48/48 [==============================] - 21s 432ms/step - loss: 0.0707 - accuracy: 0.9728 - val_loss: 0.0995 - val_accuracy: 0.9722\n",
      "Epoch 17/50\n",
      "48/48 [==============================] - 21s 434ms/step - loss: 0.1256 - accuracy: 0.9548 - val_loss: 0.1416 - val_accuracy: 0.9475\n",
      "Epoch 18/50\n",
      "48/48 [==============================] - 21s 437ms/step - loss: 0.0781 - accuracy: 0.9695 - val_loss: 0.0778 - val_accuracy: 0.9722\n",
      "Epoch 19/50\n",
      "48/48 [==============================] - 21s 436ms/step - loss: 0.0598 - accuracy: 0.9827 - val_loss: 0.1033 - val_accuracy: 0.9660\n",
      "Epoch 20/50\n",
      "48/48 [==============================] - 21s 434ms/step - loss: 0.0640 - accuracy: 0.9768 - val_loss: 0.1213 - val_accuracy: 0.9691\n",
      "Epoch 21/50\n",
      "48/48 [==============================] - 20s 425ms/step - loss: 0.0715 - accuracy: 0.9708 - val_loss: 0.1771 - val_accuracy: 0.9383\n",
      "Epoch 22/50\n",
      "48/48 [==============================] - 21s 435ms/step - loss: 0.1285 - accuracy: 0.9502 - val_loss: 0.0963 - val_accuracy: 0.9630\n",
      "Epoch 23/50\n",
      "48/48 [==============================] - 21s 439ms/step - loss: 0.1086 - accuracy: 0.9595 - val_loss: 0.0866 - val_accuracy: 0.9722\n",
      "Epoch 24/50\n",
      "48/48 [==============================] - 21s 436ms/step - loss: 0.2320 - accuracy: 0.9256 - val_loss: 0.2539 - val_accuracy: 0.9167\n",
      "Epoch 25/50\n",
      "48/48 [==============================] - 21s 440ms/step - loss: 0.2056 - accuracy: 0.9210 - val_loss: 0.1107 - val_accuracy: 0.9722\n",
      "Epoch 26/50\n",
      "48/48 [==============================] - 21s 435ms/step - loss: 0.1045 - accuracy: 0.9608 - val_loss: 0.2552 - val_accuracy: 0.8981\n",
      "Epoch 27/50\n",
      "48/48 [==============================] - 21s 436ms/step - loss: 0.0848 - accuracy: 0.9688 - val_loss: 0.0830 - val_accuracy: 0.9722\n",
      "Epoch 28/50\n",
      "48/48 [==============================] - 21s 434ms/step - loss: 0.0937 - accuracy: 0.9661 - val_loss: 0.0674 - val_accuracy: 0.9753\n",
      "Epoch 29/50\n",
      "48/48 [==============================] - 21s 427ms/step - loss: 0.0418 - accuracy: 0.9854 - val_loss: 0.0899 - val_accuracy: 0.9784\n",
      "Epoch 30/50\n",
      "48/48 [==============================] - 21s 444ms/step - loss: 0.0664 - accuracy: 0.9748 - val_loss: 0.0584 - val_accuracy: 0.9815\n",
      "Epoch 31/50\n",
      "48/48 [==============================] - 21s 430ms/step - loss: 0.0409 - accuracy: 0.9847 - val_loss: 0.0719 - val_accuracy: 0.9753\n",
      "Epoch 32/50\n",
      "48/48 [==============================] - 21s 440ms/step - loss: 0.0329 - accuracy: 0.9880 - val_loss: 0.0698 - val_accuracy: 0.9846\n",
      "Epoch 33/50\n",
      "48/48 [==============================] - 21s 441ms/step - loss: 0.0390 - accuracy: 0.9834 - val_loss: 0.1072 - val_accuracy: 0.9691\n",
      "Epoch 34/50\n",
      "48/48 [==============================] - 21s 447ms/step - loss: 0.0675 - accuracy: 0.9714 - val_loss: 0.1103 - val_accuracy: 0.9630\n",
      "Epoch 35/50\n",
      "48/48 [==============================] - 21s 435ms/step - loss: 0.0401 - accuracy: 0.9861 - val_loss: 0.0765 - val_accuracy: 0.9784\n",
      "Epoch 36/50\n",
      "48/48 [==============================] - 21s 429ms/step - loss: 0.0338 - accuracy: 0.9894 - val_loss: 0.0877 - val_accuracy: 0.9691\n",
      "Epoch 37/50\n",
      "48/48 [==============================] - 21s 440ms/step - loss: 0.0514 - accuracy: 0.9801 - val_loss: 0.2177 - val_accuracy: 0.9352\n",
      "Epoch 38/50\n",
      "48/48 [==============================] - 21s 439ms/step - loss: 0.0439 - accuracy: 0.9807 - val_loss: 0.0679 - val_accuracy: 0.9753\n",
      "Epoch 39/50\n",
      "48/48 [==============================] - 21s 429ms/step - loss: 0.0259 - accuracy: 0.9934 - val_loss: 0.0842 - val_accuracy: 0.9660\n",
      "Epoch 40/50\n",
      "48/48 [==============================] - 21s 443ms/step - loss: 0.0181 - accuracy: 0.9954 - val_loss: 0.0805 - val_accuracy: 0.9753\n",
      "Epoch 41/50\n",
      "48/48 [==============================] - 21s 436ms/step - loss: 0.0248 - accuracy: 0.9914 - val_loss: 0.0923 - val_accuracy: 0.9753\n",
      "Epoch 42/50\n",
      "48/48 [==============================] - 22s 452ms/step - loss: 0.0257 - accuracy: 0.9914 - val_loss: 0.0904 - val_accuracy: 0.9660\n",
      "Epoch 43/50\n",
      "48/48 [==============================] - 22s 456ms/step - loss: 0.0341 - accuracy: 0.9887 - val_loss: 0.1343 - val_accuracy: 0.9599\n",
      "Epoch 44/50\n",
      "48/48 [==============================] - 21s 434ms/step - loss: 0.0406 - accuracy: 0.9827 - val_loss: 0.0720 - val_accuracy: 0.9815\n",
      "Epoch 45/50\n",
      "48/48 [==============================] - 21s 439ms/step - loss: 0.0185 - accuracy: 0.9940 - val_loss: 0.1777 - val_accuracy: 0.9475\n",
      "Epoch 46/50\n",
      "48/48 [==============================] - 21s 440ms/step - loss: 0.0434 - accuracy: 0.9827 - val_loss: 0.2297 - val_accuracy: 0.9506\n",
      "Epoch 47/50\n",
      "48/48 [==============================] - 21s 429ms/step - loss: 0.0479 - accuracy: 0.9834 - val_loss: 0.0636 - val_accuracy: 0.9753\n",
      "Epoch 48/50\n",
      "48/48 [==============================] - 21s 438ms/step - loss: 0.0105 - accuracy: 0.9973 - val_loss: 0.0673 - val_accuracy: 0.9846\n",
      "Epoch 49/50\n",
      "48/48 [==============================] - 21s 442ms/step - loss: 0.0085 - accuracy: 0.9980 - val_loss: 0.0869 - val_accuracy: 0.9753\n",
      "Epoch 50/50\n",
      "48/48 [==============================] - 21s 427ms/step - loss: 0.0098 - accuracy: 0.9967 - val_loss: 0.1016 - val_accuracy: 0.9691\n"
     ]
    }
   ],
   "source": [
    "from tensorflow import keras\n",
    "from keras.models import Sequential\n",
    "from keras.layers import Conv2D, MaxPooling2D, Flatten, Dense, Dropout, BatchNormalization, MaxPool2D\n",
    "\n",
    "\n",
    "\n",
    "# Build the CNN model\n",
    "model = Sequential()\n",
    "model.add(Conv2D(128, kernel_size=(5, 5),\n",
    "                 padding='same', activation='relu', input_shape=(64, 64, 3)))\n",
    "model.add(MaxPool2D(pool_size=(3, 3), strides=2, padding='same'))\n",
    "model.add(Conv2D(64, kernel_size=(2, 2),\n",
    "                  activation='relu', padding='same'))\n",
    "model.add(MaxPool2D((2, 2), 2, padding='same'))\n",
    "model.add(Conv2D(32, kernel_size=(2, 2),\n",
    "                  activation='relu', padding='same'))\n",
    "model.add(MaxPool2D((2, 2), 2, padding='same'))\n",
    "\n",
    "model.add(Flatten())\n",
    "\n",
    "model.add(Dense(units=512,activation='relu'))\n",
    "model.add(Dropout(rate=0.25))\n",
    "model.add(Dense(units=3,activation='softmax'))\n",
    "\n",
    "# Compile the model\n",
    "model.compile(optimizer='adam', loss='categorical_crossentropy',metrics=['accuracy'])\n",
    "\n",
    "\n",
    "# Train the model\n",
    "hist = model.fit(train_ds, batch_size=5, epochs=50, validation_split=5, validation_data=test_ds)\n"
   ]
  },
  {
   "cell_type": "code",
   "execution_count": 8,
   "id": "a336c2dd",
   "metadata": {
    "execution": {
     "iopub.execute_input": "2023-09-06T07:51:36.637637Z",
     "iopub.status.busy": "2023-09-06T07:51:36.637107Z",
     "iopub.status.idle": "2023-09-06T07:51:36.645349Z",
     "shell.execute_reply": "2023-09-06T07:51:36.643583Z"
    },
    "papermill": {
     "duration": 0.254994,
     "end_time": "2023-09-06T07:51:36.647931",
     "exception": false,
     "start_time": "2023-09-06T07:51:36.392937",
     "status": "completed"
    },
    "tags": []
   },
   "outputs": [
    {
     "name": "stdout",
     "output_type": "stream",
     "text": [
      "MODEL ACCURACY = 99.6679961681366%\n"
     ]
    }
   ],
   "source": [
    "print('MODEL ACCURACY = {}%'.format(hist.history[\"accuracy\"][-1]*100))"
   ]
  },
  {
   "cell_type": "markdown",
   "id": "5602e246",
   "metadata": {
    "papermill": {
     "duration": 0.245187,
     "end_time": "2023-09-06T07:51:37.139374",
     "exception": false,
     "start_time": "2023-09-06T07:51:36.894187",
     "status": "completed"
    },
    "tags": []
   },
   "source": [
    "# Loss curve"
   ]
  },
  {
   "cell_type": "code",
   "execution_count": 9,
   "id": "535c3d28",
   "metadata": {
    "execution": {
     "iopub.execute_input": "2023-09-06T07:51:37.700990Z",
     "iopub.status.busy": "2023-09-06T07:51:37.699427Z",
     "iopub.status.idle": "2023-09-06T07:51:38.358066Z",
     "shell.execute_reply": "2023-09-06T07:51:38.356734Z"
    },
    "papermill": {
     "duration": 0.980162,
     "end_time": "2023-09-06T07:51:38.360700",
     "exception": false,
     "start_time": "2023-09-06T07:51:37.380538",
     "status": "completed"
    },
    "tags": []
   },
   "outputs": [
    {
     "data": {
      "image/png": "[encoded data removed]",
      "text/plain": [
       "<Figure size 640x480 with 1 Axes>"
      ]
     },
     "metadata": {},
     "output_type": "display_data"
    },
    {
     "data": {
      "image/png": "[encoded data removed]",
      "text/plain": [
       "<Figure size 640x480 with 1 Axes>"
      ]
     },
     "metadata": {},
     "output_type": "display_data"
    }
   ],
   "source": [
    "import matplotlib.pyplot as plt\n",
    "\n",
    "plt.subplot(2,1,1)\n",
    "plt.plot(hist.history['accuracy'])\n",
    "plt.plot(hist.history['val_accuracy'])\n",
    "plt.title('CNN model accuracy carve')\n",
    "plt.ylabel('accuracy')\n",
    "plt.xlabel('epoch')\n",
    "plt.legend(['train', 'test'], loc='lower right')\n",
    "plt.show()\n",
    "\n",
    "\n",
    "plt.subplot(2,1,1)\n",
    "plt.plot(hist.history['loss'])\n",
    "plt.plot(hist.history['val_loss'])\n",
    "plt.title('CNN Model Loss carve')\n",
    "plt.ylabel('Loss')\n",
    "plt.xlabel('epoch')\n",
    "plt.legend(['train', 'test'], loc='lower right')\n",
    "plt.show()\n",
    "\n"
   ]
  },
  {
   "cell_type": "markdown",
   "id": "c911724c",
   "metadata": {
    "papermill": {
     "duration": 0.24235,
     "end_time": "2023-09-06T07:51:38.844745",
     "exception": false,
     "start_time": "2023-09-06T07:51:38.602395",
     "status": "completed"
    },
    "tags": []
   },
   "source": [
    "# Accuracy matrix"
   ]
  },
  {
   "cell_type": "code",
   "execution_count": 10,
   "id": "c61c1539",
   "metadata": {
    "execution": {
     "iopub.execute_input": "2023-09-06T07:51:39.336813Z",
     "iopub.status.busy": "2023-09-06T07:51:39.335869Z",
     "iopub.status.idle": "2023-09-06T07:51:42.775815Z",
     "shell.execute_reply": "2023-09-06T07:51:42.774572Z"
    },
    "papermill": {
     "duration": 3.687054,
     "end_time": "2023-09-06T07:51:42.778506",
     "exception": false,
     "start_time": "2023-09-06T07:51:39.091452",
     "status": "completed"
    },
    "tags": []
   },
   "outputs": [
    {
     "name": "stdout",
     "output_type": "stream",
     "text": [
      "11/11 [==============================] - 1s 98ms/step\n",
      "Confusion matrix:\n",
      "\n"
     ]
    },
    {
     "data": {
      "text/plain": [
       "<Axes: >"
      ]
     },
     "execution_count": 10,
     "metadata": {},
     "output_type": "execute_result"
    },
    {
     "data": {
      "image/png": "[encoded data removed]",
      "text/plain": [
       "<Figure size 1200x600 with 2 Axes>"
      ]
     },
     "metadata": {},
     "output_type": "display_data"
    }
   ],
   "source": [
    "from sklearn.metrics import classification_report, confusion_matrix\n",
    "import seaborn as sns\n",
    "\n",
    "\n",
    "\n",
    "# Make predictions on the test data\n",
    "y_pred = model.predict(val_ds)\n",
    "y_pred_classes = np.argmax(y_pred, axis=1)\n",
    "# Generate the confusion matrix\n",
    "conf_mat = confusion_matrix(val_ds.classes, y_pred_classes, normalize='pred')\n",
    "\n",
    "print('Confusion matrix:\\n')\n",
    "plt.figure(figsize=(12,6))\n",
    "sns.heatmap(conf_mat, annot=True, fmt=\".1f\")\n"
   ]
  },
  {
   "cell_type": "markdown",
   "id": "c27bf4ad",
   "metadata": {
    "papermill": {
     "duration": 0.251156,
     "end_time": "2023-09-06T07:51:43.287851",
     "exception": false,
     "start_time": "2023-09-06T07:51:43.036695",
     "status": "completed"
    },
    "tags": []
   },
   "source": [
    "# Save the model"
   ]
  },
  {
   "cell_type": "code",
   "execution_count": 11,
   "id": "fe7113d5",
   "metadata": {
    "execution": {
     "iopub.execute_input": "2023-09-06T07:51:43.793692Z",
     "iopub.status.busy": "2023-09-06T07:51:43.793185Z",
     "iopub.status.idle": "2023-09-06T07:51:43.875670Z",
     "shell.execute_reply": "2023-09-06T07:51:43.874216Z"
    },
    "papermill": {
     "duration": 0.342539,
     "end_time": "2023-09-06T07:51:43.879372",
     "exception": false,
     "start_time": "2023-09-06T07:51:43.536833",
     "status": "completed"
    },
    "tags": []
   },
   "outputs": [],
   "source": [
    "model.save('Potato_leaf_prediction_model.h5') "
   ]
  },
  {
   "cell_type": "markdown",
   "id": "b16381dd",
   "metadata": {
    "papermill": {
     "duration": 0.255437,
     "end_time": "2023-09-06T07:51:44.391114",
     "exception": false,
     "start_time": "2023-09-06T07:51:44.135677",
     "status": "completed"
    },
    "tags": []
   },
   "source": [
    "# load the model"
   ]
  },
  {
   "cell_type": "code",
   "execution_count": 5,
   "id": "6de21628",
   "metadata": {
    "execution": {
     "iopub.execute_input": "2023-09-06T07:51:44.892856Z",
     "iopub.status.busy": "2023-09-06T07:51:44.892411Z",
     "iopub.status.idle": "2023-09-06T07:51:45.535292Z",
     "shell.execute_reply": "2023-09-06T07:51:45.534314Z"
    },
    "papermill": {
     "duration": 0.891201,
     "end_time": "2023-09-06T07:51:45.538020",
     "exception": false,
     "start_time": "2023-09-06T07:51:44.646819",
     "status": "completed"
    },
    "tags": []
   },
   "outputs": [
    {
     "ename": "SyntaxError",
     "evalue": "(unicode error) 'unicodeescape' codec can't decode bytes in position 2-3: truncated \\UXXXXXXXX escape (3469067025.py, line 3)",
     "output_type": "error",
     "traceback": [
      "\u001b[1;36m  Cell \u001b[1;32mIn[5], line 3\u001b[1;36m\u001b[0m\n\u001b[1;33m    loaded_model = tf.keras.models.load_model('C:\\Users\\SAM THAKKAR\\Desktop\\vanshgandu\\Potato_leaf_prediction_model.h5')\u001b[0m\n\u001b[1;37m                                                                                                                       ^\u001b[0m\n\u001b[1;31mSyntaxError\u001b[0m\u001b[1;31m:\u001b[0m (unicode error) 'unicodeescape' codec can't decode bytes in position 2-3: truncated \\UXXXXXXXX escape\n"
     ]
    }
   ],
   "source": [
    "import tensorflow as tf\n",
    "# Load the saved model\n",
    "loaded_model = tf.keras.models.load_model('C:\\Users\\SAM THAKKAR\\Desktop\\vanshgandu\\Potato_leaf_prediction_model.h5')"
   ]
  },
  {
   "cell_type": "markdown",
   "id": "43d90d67",
   "metadata": {
    "papermill": {
     "duration": 0.279257,
     "end_time": "2023-09-06T07:51:46.067791",
     "exception": false,
     "start_time": "2023-09-06T07:51:45.788534",
     "status": "completed"
    },
    "tags": []
   },
   "source": [
    "# predection"
   ]
  },
  {
   "cell_type": "code",
   "execution_count": 13,
   "id": "c05162f9",
   "metadata": {
    "execution": {
     "iopub.execute_input": "2023-09-06T07:51:46.681760Z",
     "iopub.status.busy": "2023-09-06T07:51:46.681337Z",
     "iopub.status.idle": "2023-09-06T07:51:46.890522Z",
     "shell.execute_reply": "2023-09-06T07:51:46.889483Z"
    },
    "papermill": {
     "duration": 0.57635,
     "end_time": "2023-09-06T07:51:46.893514",
     "exception": false,
     "start_time": "2023-09-06T07:51:46.317164",
     "status": "completed"
    },
    "tags": []
   },
   "outputs": [
    {
     "name": "stdout",
     "output_type": "stream",
     "text": [
      "1/1 [==============================] - 0s 113ms/step\n"
     ]
    }
   ],
   "source": [
    "from tensorflow.keras.preprocessing import image\n",
    "from tensorflow.keras.applications.resnet50 import preprocess_input\n",
    "\n",
    "# Load a sample image (replace 'sample_image.jpg' with your image file)\n",
    "img_path = '/kaggle/working/potato/val/Potato___Early_Blight/e0326fde-a613-4ec2-bc3b-e1d2154bdbcd___RS_Early.B 7679.JPG'\n",
    "img = image.load_img(img_path, target_size=(64, 64))\n",
    "img_array = image.img_to_array(img)\n",
    "img_array = np.expand_dims(img_array, axis=0)\n",
    "img_array = preprocess_input(img_array)\n",
    "\n",
    "# Load the ResNet50 model\n",
    "#model = tf.keras.applications.ResNet50(weights='imagenet')\n",
    "\n",
    "# Make predictions\n",
    "predictions = loaded_model.predict(img_array)\n"
   ]
  },
  {
   "cell_type": "code",
   "execution_count": 14,
   "id": "70a9d0cd",
   "metadata": {
    "execution": {
     "iopub.execute_input": "2023-09-06T07:51:47.406497Z",
     "iopub.status.busy": "2023-09-06T07:51:47.406048Z",
     "iopub.status.idle": "2023-09-06T07:51:47.413507Z",
     "shell.execute_reply": "2023-09-06T07:51:47.412268Z"
    },
    "papermill": {
     "duration": 0.263589,
     "end_time": "2023-09-06T07:51:47.416620",
     "exception": false,
     "start_time": "2023-09-06T07:51:47.153031",
     "status": "completed"
    },
    "tags": []
   },
   "outputs": [
    {
     "name": "stdout",
     "output_type": "stream",
     "text": [
      "Predicted Class: Potato___Late_Blight\n"
     ]
    }
   ],
   "source": [
    "# Postprocess predictions (if needed)\n",
    "# This may involve mapping the output class indices to human-readable labels\n",
    "\n",
    "# For example, if your model uses one-hot encoding and you have a class mapping:\n",
    "class_mapping = {0: 'Potato___Early_Blight', 1: 'Potato___Late_Blight', 2: 'Potato___Healthy'}  # Replace with your class mapping\n",
    "\n",
    "# Find the index of the predicted class\n",
    "predicted_class_index = np.argmax(predictions, axis=1)[0]\n",
    "\n",
    "# Get the human-readable label\n",
    "predicted_class = class_mapping.get(predicted_class_index, 'Unknown')\n",
    "\n",
    "# Print the prediction\n",
    "print(f\"Predicted Class: {predicted_class}\")"
   ]
  },
  {
   "cell_type": "code",
   "execution_count": null,
   "id": "a093831c",
   "metadata": {
    "papermill": {
     "duration": 0.250429,
     "end_time": "2023-09-06T07:51:47.916206",
     "exception": false,
     "start_time": "2023-09-06T07:51:47.665777",
     "status": "completed"
    },
    "tags": []
   },
   "outputs": [],
   "source": []
  }
 ],
 "kernelspec": {
  "display_name": "Python 3",
  "language": "python",
  "name": "python3"
 },
 "language_info": {
  "codemirror_mode": {
   "name": "ipython",
   "version": 3
  },
  "file_extension": ".py",
  "mimetype": "text/x-python",
  "name": "python",
  "nbconvert_exporter": "python",
  "pygments_lexer": "ipython3",
  "version": "3.6.4"
 },
 "metadata": {
  "kernelspec": {
   "display_name": "Harpenv",
   "language": "python",
   "name": "harpenv"
  },
  "language_info": {
   "codemirror_mode": {
    "name": "ipython",
    "version": 3
   },
   "file_extension": ".py",
   "mimetype": "text/x-python",
   "name": "python",
   "nbconvert_exporter": "python",
   "pygments_lexer": "ipython3",
   "version": "3.10.4"
  },
  "papermill": {
   "default_parameters": {},
   "duration": 1793.855153,
   "end_time": "2023-09-06T07:51:50.945323",
   "environment_variables": {},
   "exception": null,
   "input_path": "__notebook__.ipynb",
   "output_path": "__notebook__.ipynb",
   "parameters": {},
   "start_time": "2023-09-06T07:21:57.090170",
   "version": "2.4.0"
  }
 },
 "nbformat": 4,
 "nbformat_minor": 5
}
